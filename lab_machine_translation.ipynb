{
  "cells": [
    {
      "cell_type": "markdown",
      "metadata": {
        "id": "kBn2yr7hyyA4"
      },
      "source": [
        "# Lab | Text Generation from Shakespeare's Sonnet"
      ]
    },
    {
      "cell_type": "code",
      "execution_count": 6,
      "metadata": {
        "id": "BOwsuGQQY9OL"
      },
      "outputs": [],
      "source": [
        "from tensorflow.keras.preprocessing.sequence import pad_sequences\n",
        "from tensorflow.keras.layers import Embedding, LSTM, Dense, Dropout, Bidirectional, BatchNormalization\n",
        "from tensorflow.keras.preprocessing.text import Tokenizer\n",
        "from tensorflow.keras.models import Sequential\n",
        "from tensorflow.keras.optimizers import Adam\n",
        "import tensorflow as tf\n",
        "### YOUR CODE HERE\n",
        "from tensorflow.keras.regularizers import Regularizer # Figure out how to import regularizers\n",
        "###\n",
        "import tensorflow.keras.utils as ku\n",
        "import numpy as np"
      ]
    },
    {
      "cell_type": "code",
      "execution_count": 7,
      "metadata": {
        "id": "PRnDnCW-Z7qv"
      },
      "outputs": [],
      "source": [
        "tokenizer = Tokenizer()\n",
        "#!wget --no-check-certificate \\\n",
        "    #https://storage.googleapis.com/laurencemoroney-blog.appspot.com/sonnets.txt \\\n",
        "    #-O /tmp/sonnets.txt\n",
        "file_path = '/content/sonnets.txt'\n",
        "\n",
        "with open(file_path, 'r') as file:\n",
        "    data = file.read()\n",
        "\n",
        "corpus = data.lower().split(\"\\n\")\n",
        "\n",
        "\n",
        "tokenizer.fit_on_texts(corpus)\n",
        "total_words = len(tokenizer.word_index) + 1\n",
        "vocab_size = len(tokenizer.word_index) + 1\n",
        "\n",
        "# create input sequences using list of tokens\n",
        "input_sequences = []\n",
        "for line in corpus:\n",
        "\ttoken_list = tokenizer.texts_to_sequences([line])[0]\n",
        "\tfor i in range(1, len(token_list)):\n",
        "\t\tn_gram_sequence = token_list[:i+1]\n",
        "\t\tinput_sequences.append(n_gram_sequence)\n",
        "\n",
        "\n",
        "# pad sequences\n",
        "max_sequence_len = max([len(x) for x in input_sequences])\n",
        "input_sequences = np.array(pad_sequences(input_sequences, maxlen=max_sequence_len, padding='pre'))\n",
        "\n",
        "# create predictors and label\n",
        "predictors, label = input_sequences[:,:-1],input_sequences[:,-1]\n",
        "\n",
        "label = ku.to_categorical(label, num_classes=total_words)"
      ]
    },
    {
      "cell_type": "code",
      "execution_count": 8,
      "metadata": {
        "id": "w9vH8Y59ajYL",
        "colab": {
          "base_uri": "https://localhost:8080/"
        },
        "outputId": "5c0d990f-72ee-43b5-cdf7-0f80eabdef73"
      },
      "outputs": [
        {
          "output_type": "stream",
          "name": "stdout",
          "text": [
            "Model: \"sequential\"\n",
            "_________________________________________________________________\n",
            " Layer (type)                Output Shape              Param #   \n",
            "=================================================================\n",
            " embedding (Embedding)       (None, 10, 100)           337500    \n",
            "                                                                 \n",
            " lstm (LSTM)                 (None, 10, 64)            42240     \n",
            "                                                                 \n",
            " dropout (Dropout)           (None, 10, 64)            0         \n",
            "                                                                 \n",
            " batch_normalization (Batch  (None, 10, 64)            256       \n",
            " Normalization)                                                  \n",
            "                                                                 \n",
            " lstm_1 (LSTM)               (None, 128)               98816     \n",
            "                                                                 \n",
            " dropout_1 (Dropout)         (None, 128)               0         \n",
            "                                                                 \n",
            " batch_normalization_1 (Bat  (None, 128)               512       \n",
            " chNormalization)                                                \n",
            "                                                                 \n",
            " dense (Dense)               (None, 128)               16512     \n",
            "                                                                 \n",
            " batch_normalization_2 (Bat  (None, 128)               512       \n",
            " chNormalization)                                                \n",
            "                                                                 \n",
            " dense_1 (Dense)             (None, 3375)              435375    \n",
            "                                                                 \n",
            "=================================================================\n",
            "Total params: 931723 (3.55 MB)\n",
            "Trainable params: 931083 (3.55 MB)\n",
            "Non-trainable params: 640 (2.50 KB)\n",
            "_________________________________________________________________\n",
            "None\n"
          ]
        }
      ],
      "source": [
        "embedding_dim = 100\n",
        "model = Sequential()\n",
        "model.add(Embedding(input_dim=vocab_size, output_dim=embedding_dim, input_length=max_sequence_len-1))\n",
        "model.add(LSTM(units=64, return_sequences=True))\n",
        "model.add(Dropout(0.5))\n",
        "model.add(BatchNormalization())\n",
        "model.add(LSTM(units=128))\n",
        "model.add(Dropout(0.5))\n",
        "model.add(BatchNormalization())\n",
        "model.add(Dense(units=128, activation='relu', kernel_regularizer=tf.keras.regularizers.l2(0.01)))\n",
        "model.add(BatchNormalization())\n",
        "model.add(Dense(units=vocab_size, activation='softmax'))\n",
        "\n",
        "# Pick an optimizer\n",
        "optimizer = tf.keras.optimizers.Adam(learning_rate=0.001)\n",
        "model.compile(optimizer=optimizer, loss='categorical_crossentropy', metrics=['accuracy'])\n",
        "\n",
        "print(model.summary())\n"
      ]
    },
    {
      "cell_type": "code",
      "execution_count": 9,
      "metadata": {
        "id": "AIg2f1HBxqof",
        "colab": {
          "base_uri": "https://localhost:8080/"
        },
        "outputId": "1d3bb942-5247-47af-e696-1f239a2a2a58"
      },
      "outputs": [
        {
          "output_type": "stream",
          "name": "stdout",
          "text": [
            "Epoch 1/100\n",
            "484/484 [==============================] - 22s 28ms/step - loss: 8.0252 - accuracy: 0.0164\n",
            "Epoch 2/100\n",
            "484/484 [==============================] - 6s 12ms/step - loss: 6.8960 - accuracy: 0.0265\n",
            "Epoch 3/100\n",
            "484/484 [==============================] - 6s 13ms/step - loss: 6.6017 - accuracy: 0.0318\n",
            "Epoch 4/100\n",
            "484/484 [==============================] - 6s 12ms/step - loss: 6.4145 - accuracy: 0.0355\n",
            "Epoch 5/100\n",
            "484/484 [==============================] - 6s 12ms/step - loss: 6.2619 - accuracy: 0.0415\n",
            "Epoch 6/100\n",
            "484/484 [==============================] - 6s 12ms/step - loss: 6.1176 - accuracy: 0.0471\n",
            "Epoch 7/100\n",
            "484/484 [==============================] - 5s 11ms/step - loss: 5.9905 - accuracy: 0.0504\n",
            "Epoch 8/100\n",
            "484/484 [==============================] - 6s 12ms/step - loss: 5.8632 - accuracy: 0.0574\n",
            "Epoch 9/100\n",
            "484/484 [==============================] - 6s 13ms/step - loss: 5.7313 - accuracy: 0.0617\n",
            "Epoch 10/100\n",
            "484/484 [==============================] - 6s 13ms/step - loss: 5.6061 - accuracy: 0.0695\n",
            "Epoch 11/100\n",
            "484/484 [==============================] - 5s 11ms/step - loss: 5.5073 - accuracy: 0.0720\n",
            "Epoch 12/100\n",
            "484/484 [==============================] - 6s 12ms/step - loss: 5.4011 - accuracy: 0.0818\n",
            "Epoch 13/100\n",
            "484/484 [==============================] - 5s 10ms/step - loss: 5.3097 - accuracy: 0.0843\n",
            "Epoch 14/100\n",
            "484/484 [==============================] - 5s 11ms/step - loss: 5.2095 - accuracy: 0.0915\n",
            "Epoch 15/100\n",
            "484/484 [==============================] - 5s 11ms/step - loss: 5.1291 - accuracy: 0.0913\n",
            "Epoch 16/100\n",
            "484/484 [==============================] - 5s 10ms/step - loss: 5.0544 - accuracy: 0.0950\n",
            "Epoch 17/100\n",
            "484/484 [==============================] - 6s 12ms/step - loss: 4.9798 - accuracy: 0.1004\n",
            "Epoch 18/100\n",
            "484/484 [==============================] - 5s 10ms/step - loss: 4.9094 - accuracy: 0.1010\n",
            "Epoch 19/100\n",
            "484/484 [==============================] - 6s 11ms/step - loss: 4.8390 - accuracy: 0.1090\n",
            "Epoch 20/100\n",
            "484/484 [==============================] - 5s 10ms/step - loss: 4.7878 - accuracy: 0.1086\n",
            "Epoch 21/100\n",
            "484/484 [==============================] - 5s 10ms/step - loss: 4.7382 - accuracy: 0.1128\n",
            "Epoch 22/100\n",
            "484/484 [==============================] - 6s 12ms/step - loss: 4.6828 - accuracy: 0.1194\n",
            "Epoch 23/100\n",
            "484/484 [==============================] - 5s 10ms/step - loss: 4.6199 - accuracy: 0.1222\n",
            "Epoch 24/100\n",
            "484/484 [==============================] - 6s 11ms/step - loss: 4.5731 - accuracy: 0.1272\n",
            "Epoch 25/100\n",
            "484/484 [==============================] - 5s 10ms/step - loss: 4.5218 - accuracy: 0.1305\n",
            "Epoch 26/100\n",
            "484/484 [==============================] - 5s 10ms/step - loss: 4.4784 - accuracy: 0.1317\n",
            "Epoch 27/100\n",
            "484/484 [==============================] - 5s 11ms/step - loss: 4.4467 - accuracy: 0.1388\n",
            "Epoch 28/100\n",
            "484/484 [==============================] - 5s 10ms/step - loss: 4.4063 - accuracy: 0.1437\n",
            "Epoch 29/100\n",
            "484/484 [==============================] - 6s 12ms/step - loss: 4.3792 - accuracy: 0.1442\n",
            "Epoch 30/100\n",
            "484/484 [==============================] - 5s 10ms/step - loss: 4.3178 - accuracy: 0.1473\n",
            "Epoch 31/100\n",
            "484/484 [==============================] - 6s 12ms/step - loss: 4.2973 - accuracy: 0.1531\n",
            "Epoch 32/100\n",
            "484/484 [==============================] - 6s 12ms/step - loss: 4.2397 - accuracy: 0.1549\n",
            "Epoch 33/100\n",
            "484/484 [==============================] - 5s 10ms/step - loss: 4.2259 - accuracy: 0.1587\n",
            "Epoch 34/100\n",
            "484/484 [==============================] - 6s 12ms/step - loss: 4.1799 - accuracy: 0.1652\n",
            "Epoch 35/100\n",
            "484/484 [==============================] - 5s 10ms/step - loss: 4.1292 - accuracy: 0.1739\n",
            "Epoch 36/100\n",
            "484/484 [==============================] - 9s 18ms/step - loss: 4.0976 - accuracy: 0.1746\n",
            "Epoch 37/100\n",
            "484/484 [==============================] - 5s 10ms/step - loss: 4.0883 - accuracy: 0.1733\n",
            "Epoch 38/100\n",
            "484/484 [==============================] - 5s 11ms/step - loss: 4.0455 - accuracy: 0.1805\n",
            "Epoch 39/100\n",
            "484/484 [==============================] - 5s 11ms/step - loss: 4.0315 - accuracy: 0.1852\n",
            "Epoch 40/100\n",
            "484/484 [==============================] - 5s 10ms/step - loss: 4.0117 - accuracy: 0.1879\n",
            "Epoch 41/100\n",
            "484/484 [==============================] - 6s 11ms/step - loss: 3.9880 - accuracy: 0.1924\n",
            "Epoch 42/100\n",
            "484/484 [==============================] - 5s 10ms/step - loss: 3.9579 - accuracy: 0.1943\n",
            "Epoch 43/100\n",
            "484/484 [==============================] - 5s 11ms/step - loss: 3.9165 - accuracy: 0.1988\n",
            "Epoch 44/100\n",
            "484/484 [==============================] - 5s 10ms/step - loss: 3.9067 - accuracy: 0.1974\n",
            "Epoch 45/100\n",
            "484/484 [==============================] - 5s 10ms/step - loss: 3.8842 - accuracy: 0.1987\n",
            "Epoch 46/100\n",
            "484/484 [==============================] - 6s 12ms/step - loss: 3.8657 - accuracy: 0.2068\n",
            "Epoch 47/100\n",
            "484/484 [==============================] - 5s 10ms/step - loss: 3.8388 - accuracy: 0.2099\n",
            "Epoch 48/100\n",
            "484/484 [==============================] - 6s 12ms/step - loss: 3.8029 - accuracy: 0.2115\n",
            "Epoch 49/100\n",
            "484/484 [==============================] - 5s 10ms/step - loss: 3.7979 - accuracy: 0.2163\n",
            "Epoch 50/100\n",
            "484/484 [==============================] - 5s 11ms/step - loss: 3.7804 - accuracy: 0.2168\n",
            "Epoch 51/100\n",
            "484/484 [==============================] - 5s 11ms/step - loss: 3.7562 - accuracy: 0.2214\n",
            "Epoch 52/100\n",
            "484/484 [==============================] - 5s 10ms/step - loss: 3.7232 - accuracy: 0.2277\n",
            "Epoch 53/100\n",
            "484/484 [==============================] - 6s 12ms/step - loss: 3.7094 - accuracy: 0.2257\n",
            "Epoch 54/100\n",
            "484/484 [==============================] - 6s 12ms/step - loss: 3.6946 - accuracy: 0.2321\n",
            "Epoch 55/100\n",
            "484/484 [==============================] - 6s 13ms/step - loss: 3.6667 - accuracy: 0.2370\n",
            "Epoch 56/100\n",
            "484/484 [==============================] - 5s 10ms/step - loss: 3.6476 - accuracy: 0.2360\n",
            "Epoch 57/100\n",
            "484/484 [==============================] - 5s 10ms/step - loss: 3.6573 - accuracy: 0.2349\n",
            "Epoch 58/100\n",
            "484/484 [==============================] - 6s 11ms/step - loss: 3.6231 - accuracy: 0.2422\n",
            "Epoch 59/100\n",
            "484/484 [==============================] - 5s 10ms/step - loss: 3.6104 - accuracy: 0.2444\n",
            "Epoch 60/100\n",
            "484/484 [==============================] - 6s 12ms/step - loss: 3.5971 - accuracy: 0.2457\n",
            "Epoch 61/100\n",
            "484/484 [==============================] - 5s 10ms/step - loss: 3.5764 - accuracy: 0.2481\n",
            "Epoch 62/100\n",
            "484/484 [==============================] - 6s 11ms/step - loss: 3.5638 - accuracy: 0.2533\n",
            "Epoch 63/100\n",
            "484/484 [==============================] - 5s 11ms/step - loss: 3.5327 - accuracy: 0.2555\n",
            "Epoch 64/100\n",
            "484/484 [==============================] - 5s 10ms/step - loss: 3.5228 - accuracy: 0.2567\n",
            "Epoch 65/100\n",
            "484/484 [==============================] - 6s 12ms/step - loss: 3.4890 - accuracy: 0.2605\n",
            "Epoch 66/100\n",
            "484/484 [==============================] - 5s 10ms/step - loss: 3.4960 - accuracy: 0.2623\n",
            "Epoch 67/100\n",
            "484/484 [==============================] - 6s 12ms/step - loss: 3.4806 - accuracy: 0.2598\n",
            "Epoch 68/100\n",
            "484/484 [==============================] - 5s 10ms/step - loss: 3.4471 - accuracy: 0.2709\n",
            "Epoch 69/100\n",
            "484/484 [==============================] - 5s 11ms/step - loss: 3.4429 - accuracy: 0.2700\n",
            "Epoch 70/100\n",
            "484/484 [==============================] - 6s 12ms/step - loss: 3.4460 - accuracy: 0.2689\n",
            "Epoch 71/100\n",
            "484/484 [==============================] - 5s 10ms/step - loss: 3.4252 - accuracy: 0.2756\n",
            "Epoch 72/100\n",
            "484/484 [==============================] - 6s 12ms/step - loss: 3.4152 - accuracy: 0.2769\n",
            "Epoch 73/100\n",
            "484/484 [==============================] - 5s 10ms/step - loss: 3.3995 - accuracy: 0.2802\n",
            "Epoch 74/100\n",
            "484/484 [==============================] - 5s 11ms/step - loss: 3.3944 - accuracy: 0.2771\n",
            "Epoch 75/100\n",
            "484/484 [==============================] - 5s 11ms/step - loss: 3.3673 - accuracy: 0.2878\n",
            "Epoch 76/100\n",
            "484/484 [==============================] - 6s 12ms/step - loss: 3.3682 - accuracy: 0.2862\n",
            "Epoch 77/100\n",
            "484/484 [==============================] - 6s 12ms/step - loss: 3.3456 - accuracy: 0.2885\n",
            "Epoch 78/100\n",
            "484/484 [==============================] - 5s 10ms/step - loss: 3.3480 - accuracy: 0.2890\n",
            "Epoch 79/100\n",
            "484/484 [==============================] - 6s 12ms/step - loss: 3.3068 - accuracy: 0.2962\n",
            "Epoch 80/100\n",
            "484/484 [==============================] - 5s 10ms/step - loss: 3.3042 - accuracy: 0.2955\n",
            "Epoch 81/100\n",
            "484/484 [==============================] - 5s 11ms/step - loss: 3.3187 - accuracy: 0.2936\n",
            "Epoch 82/100\n",
            "484/484 [==============================] - 5s 11ms/step - loss: 3.2751 - accuracy: 0.3013\n",
            "Epoch 83/100\n",
            "484/484 [==============================] - 5s 10ms/step - loss: 3.2502 - accuracy: 0.3009\n",
            "Epoch 84/100\n",
            "484/484 [==============================] - 6s 12ms/step - loss: 3.2746 - accuracy: 0.3025\n",
            "Epoch 85/100\n",
            "484/484 [==============================] - 5s 10ms/step - loss: 3.2317 - accuracy: 0.3044\n",
            "Epoch 86/100\n",
            "484/484 [==============================] - 6s 11ms/step - loss: 3.2199 - accuracy: 0.3089\n",
            "Epoch 87/100\n",
            "484/484 [==============================] - 5s 10ms/step - loss: 3.2032 - accuracy: 0.3145\n",
            "Epoch 88/100\n",
            "484/484 [==============================] - 5s 10ms/step - loss: 3.2252 - accuracy: 0.3105\n",
            "Epoch 89/100\n",
            "484/484 [==============================] - 6s 12ms/step - loss: 3.2216 - accuracy: 0.3108\n",
            "Epoch 90/100\n",
            "484/484 [==============================] - 5s 10ms/step - loss: 3.1993 - accuracy: 0.3193\n",
            "Epoch 91/100\n",
            "484/484 [==============================] - 6s 12ms/step - loss: 3.1734 - accuracy: 0.3205\n",
            "Epoch 92/100\n",
            "484/484 [==============================] - 5s 10ms/step - loss: 3.1712 - accuracy: 0.3194\n",
            "Epoch 93/100\n",
            "484/484 [==============================] - 5s 10ms/step - loss: 3.1528 - accuracy: 0.3190\n",
            "Epoch 94/100\n",
            "484/484 [==============================] - 6s 12ms/step - loss: 3.1528 - accuracy: 0.3188\n",
            "Epoch 95/100\n",
            "484/484 [==============================] - 5s 10ms/step - loss: 3.1559 - accuracy: 0.3223\n",
            "Epoch 96/100\n",
            "484/484 [==============================] - 6s 12ms/step - loss: 3.1236 - accuracy: 0.3266\n",
            "Epoch 97/100\n",
            "484/484 [==============================] - 5s 10ms/step - loss: 3.1323 - accuracy: 0.3239\n",
            "Epoch 98/100\n",
            "484/484 [==============================] - 5s 10ms/step - loss: 3.1014 - accuracy: 0.3356\n",
            "Epoch 99/100\n",
            "484/484 [==============================] - 5s 11ms/step - loss: 3.1206 - accuracy: 0.3290\n",
            "Epoch 100/100\n",
            "484/484 [==============================] - 6s 12ms/step - loss: 3.1064 - accuracy: 0.3340\n"
          ]
        }
      ],
      "source": [
        " history = model.fit(predictors, label, epochs=100, verbose=1)"
      ]
    },
    {
      "cell_type": "code",
      "execution_count": 10,
      "metadata": {
        "id": "1fXTEO3GJ282",
        "colab": {
          "base_uri": "https://localhost:8080/",
          "height": 887
        },
        "outputId": "7750542b-89c0-43c2-eb75-dc849942f77d"
      },
      "outputs": [
        {
          "output_type": "display_data",
          "data": {
            "text/plain": [
              "<Figure size 640x480 with 1 Axes>"
            ],
            "image/png": "[encoded data removed]"
          },
          "metadata": {}
        },
        {
          "output_type": "display_data",
          "data": {
            "text/plain": [
              "<Figure size 640x480 with 1 Axes>"
            ],
            "image/png": "[encoded data removed]"
          },
          "metadata": {}
        }
      ],
      "source": [
        "import matplotlib.pyplot as plt\n",
        "acc = history.history['accuracy']\n",
        "loss = history.history['loss']\n",
        "\n",
        "epochs = range(len(acc))\n",
        "\n",
        "plt.plot(epochs, acc, 'b', label='Training accuracy')\n",
        "plt.title('Training accuracy')\n",
        "\n",
        "plt.figure()\n",
        "\n",
        "plt.plot(epochs, loss, 'b', label='Training Loss')\n",
        "plt.title('Training loss')\n",
        "plt.legend()\n",
        "\n",
        "plt.show()"
      ]
    },
    {
      "cell_type": "code",
      "execution_count": 28,
      "metadata": {
        "id": "6Vc6PHgxa6Hm",
        "colab": {
          "base_uri": "https://localhost:8080/"
        },
        "outputId": "bb39e9e3-a2fc-4207-d582-b0ef50c5f927"
      },
      "outputs": [
        {
          "output_type": "stream",
          "name": "stdout",
          "text": [
            "Help me Obi Wan Kenobi, you're my only hope unseen to alchemy cross cross cross cross brought to catch me light light light ill state to go time exchanged accuse thee so lie to me last it alone alone grow new in defects afloat forth friend room so abused lies near slain convertest slain guard lease date erred erred erred erred mad wife crave seen strife strife seen lively mind and chary up bide bestow done light cold decay be another time young grow mad on both staineth gone to each new new torn torn ' prove store prove hate ' grow bevel young of store not feel thou\n"
          ]
        }
      ],
      "source": [
        "seed_text = \"Help me Obi Wan Kenobi, you're my only hope\"\n",
        "next_words = 100\n",
        "\n",
        "for _ in range(next_words):\n",
        "    token_list = tokenizer.texts_to_sequences([seed_text])[0]\n",
        "    token_list = pad_sequences([token_list], maxlen=max_sequence_len-1, padding='pre')\n",
        "    predicted = model.predict(token_list, verbose=0)\n",
        "    predicted_index = np.argmax(predicted, axis=-1)[0]\n",
        "\n",
        "    output_word = \"\"\n",
        "    for word, index in tokenizer.word_index.items():\n",
        "        if index == predicted_index:\n",
        "            output_word = word\n",
        "            break\n",
        "    seed_text += \" \" + output_word\n",
        "\n",
        "print(seed_text)\n"
      ]
    }
  ],
  "metadata": {
    "accelerator": "GPU",
    "colab": {
      "provenance": []
    },
    "kernelspec": {
      "display_name": "Python 3 (ipykernel)",
      "language": "python",
      "name": "python3"
    },
    "language_info": {
      "codemirror_mode": {
        "name": "ipython",
        "version": 3
      },
      "file_extension": ".py",
      "mimetype": "text/x-python",
      "name": "python",
      "nbconvert_exporter": "python",
      "pygments_lexer": "ipython3",
      "version": "3.11.8"
    }
  },
  "nbformat": 4,
  "nbformat_minor": 0
}